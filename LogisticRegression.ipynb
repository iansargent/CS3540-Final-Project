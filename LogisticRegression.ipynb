{
 "cells": [
  {
   "cell_type": "markdown",
   "id": "9adaa81c-5843-4aba-b318-3791f0972762",
   "metadata": {},
   "source": [
    "# Logistic Regression"
   ]
  },
  {
   "cell_type": "markdown",
   "id": "66d87aca-8c93-463c-a636-68e7bf10fdbf",
   "metadata": {},
   "source": [
    "### Setup"
   ]
  },
  {
   "cell_type": "code",
   "execution_count": 1,
   "id": "712c932b-694c-45f6-8b36-8a4a44867fd3",
   "metadata": {},
   "outputs": [],
   "source": [
    "#imports\n",
    "import numpy as np\n",
    "import pandas as pd\n",
    "import matplotlib.pyplot as plt\n",
    "import json\n",
    "import numpy as np\n",
    "import random\n",
    "\n",
    "from sklearn.preprocessing import PolynomialFeatures, MinMaxScaler\n",
    "from sklearn.linear_model import LogisticRegression\n",
    "from scipy.special import expit"
   ]
  },
  {
   "cell_type": "code",
   "execution_count": 2,
   "id": "5671be32-26cb-4dbc-8e9d-a96acad20d92",
   "metadata": {},
   "outputs": [],
   "source": [
    "#setting a random seed for reproducibility\n",
    "random.seed(4)"
   ]
  },
  {
   "cell_type": "code",
   "execution_count": 3,
   "id": "ae14543d-37cb-4dca-bb1f-63fb2599dcfb",
   "metadata": {},
   "outputs": [],
   "source": [
    "#getting the data\n",
    "with open('realAccountData.json', 'r') as f:\n",
    "            realData = json.load(f)\n",
    "with open('fakeAccountData.json', 'r') as f:\n",
    "            fakeData = json.load(f)\n",
    "allData = realData + fakeData #note that the data is ordered right now\n",
    "random.shuffle(allData) #so this shuffles the list just in case"
   ]
  },
  {
   "cell_type": "code",
   "execution_count": 4,
   "id": "271344b8-5964-4ae9-a909-4a44d47fa15e",
   "metadata": {},
   "outputs": [],
   "source": [
    "# allData[1] #making sure the combination works"
   ]
  },
  {
   "cell_type": "code",
   "execution_count": 5,
   "id": "1d5519c5-2555-484d-ae05-95822fafb43c",
   "metadata": {},
   "outputs": [],
   "source": [
    "#making sure the data came in correctly\n",
    "# fakeData[0], realData[0]\n",
    "# realData[1]"
   ]
  },
  {
   "cell_type": "code",
   "execution_count": 6,
   "id": "0c6de42f-316c-4c0b-89e8-1a353a52213f",
   "metadata": {},
   "outputs": [],
   "source": [
    "#turning into numpy arrays\n",
    "numpy_real = np.array(realData)\n",
    "# print(numpy_real[1]) #making sure things work\n",
    "numpy_fake = np.array(fakeData)\n",
    "# print(numpy_fake[1]) #making sure things work\n",
    "numpy_all = np.array(allData)\n",
    "# print(numpy_all[1]) #making sure things work\n"
   ]
  },
  {
   "cell_type": "markdown",
   "id": "7097a052-5665-4a04-b0bc-098aec814303",
   "metadata": {},
   "source": [
    "## Linear Logistic Regression"
   ]
  },
  {
   "cell_type": "code",
   "execution_count": 7,
   "id": "d8e1d04c-0782-49db-9414-00cf8f111e36",
   "metadata": {},
   "outputs": [
    {
     "data": {
      "text/html": [
       "<div>\n",
       "<style scoped>\n",
       "    .dataframe tbody tr th:only-of-type {\n",
       "        vertical-align: middle;\n",
       "    }\n",
       "\n",
       "    .dataframe tbody tr th {\n",
       "        vertical-align: top;\n",
       "    }\n",
       "\n",
       "    .dataframe thead th {\n",
       "        text-align: right;\n",
       "    }\n",
       "</style>\n",
       "<table border=\"1\" class=\"dataframe\">\n",
       "  <thead>\n",
       "    <tr style=\"text-align: right;\">\n",
       "      <th></th>\n",
       "      <th>Ones</th>\n",
       "      <th>userFollowerCount</th>\n",
       "      <th>userFollowingCount</th>\n",
       "      <th>userBiographyLength</th>\n",
       "      <th>userMediaCount</th>\n",
       "      <th>userHasProfilPic</th>\n",
       "      <th>userIsPrivate</th>\n",
       "      <th>usernameDigitCount</th>\n",
       "      <th>usernameLength</th>\n",
       "      <th>isFake</th>\n",
       "    </tr>\n",
       "  </thead>\n",
       "  <tbody>\n",
       "    <tr>\n",
       "      <th>0</th>\n",
       "      <td>1</td>\n",
       "      <td>65</td>\n",
       "      <td>67</td>\n",
       "      <td>79</td>\n",
       "      <td>116</td>\n",
       "      <td>1</td>\n",
       "      <td>0</td>\n",
       "      <td>0</td>\n",
       "      <td>8</td>\n",
       "      <td>0</td>\n",
       "    </tr>\n",
       "    <tr>\n",
       "      <th>1</th>\n",
       "      <td>1</td>\n",
       "      <td>219</td>\n",
       "      <td>337</td>\n",
       "      <td>0</td>\n",
       "      <td>0</td>\n",
       "      <td>1</td>\n",
       "      <td>1</td>\n",
       "      <td>1</td>\n",
       "      <td>7</td>\n",
       "      <td>0</td>\n",
       "    </tr>\n",
       "    <tr>\n",
       "      <th>2</th>\n",
       "      <td>1</td>\n",
       "      <td>252</td>\n",
       "      <td>509</td>\n",
       "      <td>0</td>\n",
       "      <td>28</td>\n",
       "      <td>1</td>\n",
       "      <td>1</td>\n",
       "      <td>0</td>\n",
       "      <td>11</td>\n",
       "      <td>0</td>\n",
       "    </tr>\n",
       "    <tr>\n",
       "      <th>3</th>\n",
       "      <td>1</td>\n",
       "      <td>58</td>\n",
       "      <td>2132</td>\n",
       "      <td>0</td>\n",
       "      <td>0</td>\n",
       "      <td>0</td>\n",
       "      <td>0</td>\n",
       "      <td>0</td>\n",
       "      <td>14</td>\n",
       "      <td>1</td>\n",
       "    </tr>\n",
       "    <tr>\n",
       "      <th>4</th>\n",
       "      <td>1</td>\n",
       "      <td>452</td>\n",
       "      <td>481</td>\n",
       "      <td>0</td>\n",
       "      <td>82</td>\n",
       "      <td>1</td>\n",
       "      <td>1</td>\n",
       "      <td>0</td>\n",
       "      <td>6</td>\n",
       "      <td>0</td>\n",
       "    </tr>\n",
       "    <tr>\n",
       "      <th>...</th>\n",
       "      <td>...</td>\n",
       "      <td>...</td>\n",
       "      <td>...</td>\n",
       "      <td>...</td>\n",
       "      <td>...</td>\n",
       "      <td>...</td>\n",
       "      <td>...</td>\n",
       "      <td>...</td>\n",
       "      <td>...</td>\n",
       "      <td>...</td>\n",
       "    </tr>\n",
       "    <tr>\n",
       "      <th>1189</th>\n",
       "      <td>1</td>\n",
       "      <td>234</td>\n",
       "      <td>658</td>\n",
       "      <td>93</td>\n",
       "      <td>2</td>\n",
       "      <td>1</td>\n",
       "      <td>0</td>\n",
       "      <td>0</td>\n",
       "      <td>14</td>\n",
       "      <td>0</td>\n",
       "    </tr>\n",
       "    <tr>\n",
       "      <th>1190</th>\n",
       "      <td>1</td>\n",
       "      <td>846</td>\n",
       "      <td>743</td>\n",
       "      <td>22</td>\n",
       "      <td>38</td>\n",
       "      <td>1</td>\n",
       "      <td>0</td>\n",
       "      <td>0</td>\n",
       "      <td>12</td>\n",
       "      <td>0</td>\n",
       "    </tr>\n",
       "    <tr>\n",
       "      <th>1191</th>\n",
       "      <td>1</td>\n",
       "      <td>384</td>\n",
       "      <td>219</td>\n",
       "      <td>51</td>\n",
       "      <td>11</td>\n",
       "      <td>1</td>\n",
       "      <td>1</td>\n",
       "      <td>0</td>\n",
       "      <td>12</td>\n",
       "      <td>0</td>\n",
       "    </tr>\n",
       "    <tr>\n",
       "      <th>1192</th>\n",
       "      <td>1</td>\n",
       "      <td>323</td>\n",
       "      <td>405</td>\n",
       "      <td>0</td>\n",
       "      <td>69</td>\n",
       "      <td>1</td>\n",
       "      <td>1</td>\n",
       "      <td>0</td>\n",
       "      <td>10</td>\n",
       "      <td>0</td>\n",
       "    </tr>\n",
       "    <tr>\n",
       "      <th>1193</th>\n",
       "      <td>1</td>\n",
       "      <td>175</td>\n",
       "      <td>313</td>\n",
       "      <td>11</td>\n",
       "      <td>4</td>\n",
       "      <td>1</td>\n",
       "      <td>0</td>\n",
       "      <td>0</td>\n",
       "      <td>7</td>\n",
       "      <td>0</td>\n",
       "    </tr>\n",
       "  </tbody>\n",
       "</table>\n",
       "<p>1194 rows × 10 columns</p>\n",
       "</div>"
      ],
      "text/plain": [
       "      Ones  userFollowerCount  userFollowingCount  userBiographyLength  \\\n",
       "0        1                 65                  67                   79   \n",
       "1        1                219                 337                    0   \n",
       "2        1                252                 509                    0   \n",
       "3        1                 58                2132                    0   \n",
       "4        1                452                 481                    0   \n",
       "...    ...                ...                 ...                  ...   \n",
       "1189     1                234                 658                   93   \n",
       "1190     1                846                 743                   22   \n",
       "1191     1                384                 219                   51   \n",
       "1192     1                323                 405                    0   \n",
       "1193     1                175                 313                   11   \n",
       "\n",
       "      userMediaCount  userHasProfilPic  userIsPrivate  usernameDigitCount  \\\n",
       "0                116                 1              0                   0   \n",
       "1                  0                 1              1                   1   \n",
       "2                 28                 1              1                   0   \n",
       "3                  0                 0              0                   0   \n",
       "4                 82                 1              1                   0   \n",
       "...              ...               ...            ...                 ...   \n",
       "1189               2                 1              0                   0   \n",
       "1190              38                 1              0                   0   \n",
       "1191              11                 1              1                   0   \n",
       "1192              69                 1              1                   0   \n",
       "1193               4                 1              0                   0   \n",
       "\n",
       "      usernameLength  isFake  \n",
       "0                  8       0  \n",
       "1                  7       0  \n",
       "2                 11       0  \n",
       "3                 14       1  \n",
       "4                  6       0  \n",
       "...              ...     ...  \n",
       "1189              14       0  \n",
       "1190              12       0  \n",
       "1191              12       0  \n",
       "1192              10       0  \n",
       "1193               7       0  \n",
       "\n",
       "[1194 rows x 10 columns]"
      ]
     },
     "metadata": {},
     "output_type": "display_data"
    }
   ],
   "source": [
    "#turning into pandas dataframes\n",
    "allData_df = pd.DataFrame(allData)\n",
    "\n",
    "#adding the ones and seperating the data\n",
    "allData_df.insert(0, 'Ones', 1)\n",
    "cols = allData_df.shape[1]\n",
    "X = allData_df.iloc[:,0:cols-1] # iloc slicing function\n",
    "Y = allData_df.iloc[:,cols-1:cols]\n",
    "\n",
    "\n",
    "display(allData_df) #making sure this works\n",
    "# display(X) #making sure this works\n",
    "# display(^) #making sure this works"
   ]
  },
  {
   "cell_type": "code",
   "execution_count": 40,
   "id": "e71a04db-311f-4b0c-bb88-521335e37efc",
   "metadata": {},
   "outputs": [],
   "source": [
    "#train test split being made\n",
    "from sklearn.model_selection import train_test_split\n",
    "from sklearn import preprocessing\n",
    "# and normalizing the X data\n",
    "scaler = preprocessing.StandardScaler().fit(X)\n",
    "X_scaled = scaler.transform(X)\n",
    "\n",
    "x_train, x_test, y_train, y_test = train_test_split(X_scaled, Y, test_size=0.25, random_state=4)\n",
    "# x_train, x_test, y_train, y_test = train_test_split(X, Y, test_size=0.25, random_state=4)"
   ]
  },
  {
   "cell_type": "markdown",
   "id": "e8817a5b-ac33-45fb-adee-e37827404401",
   "metadata": {},
   "source": [
    "### NEED TO DO: PDA and make a 2d plot"
   ]
  },
  {
   "cell_type": "code",
   "execution_count": 41,
   "id": "df917dd2-5c06-4bff-97e5-5631d4a1a00c",
   "metadata": {},
   "outputs": [],
   "source": [
    "#note: tried to do logistic regression manually, but it was not really working. \n",
    "#i was having float overflows and divide by 0 errors\n",
    "\n",
    "#note: the unscaled sklearn algorithms take a while to run (a few minutes) especially the unscalpolynomial algorithm"
   ]
  },
  {
   "cell_type": "code",
   "execution_count": 42,
   "id": "30474902-9fa0-4fd4-95c6-04c240086d5b",
   "metadata": {},
   "outputs": [
    {
     "data": {
      "text/plain": [
       "0.9431438127090301"
      ]
     },
     "execution_count": 42,
     "metadata": {},
     "output_type": "execute_result"
    }
   ],
   "source": [
    "# Sklearn linear logistic regression version \n",
    "y_train_array = np.ravel(y_train)\n",
    "# print(Y_array)\n",
    "linear_log = LogisticRegression(random_state=4, max_iter=10000).fit(x_train, y_train_array)\n",
    "\n",
    "linear_log.score(x_test, y_test)\n",
    "#result is .9431\n",
    "#unscaled the result is .9598"
   ]
  },
  {
   "cell_type": "code",
   "execution_count": 44,
   "id": "0360399c-65df-4ddd-98bb-c27601e0087b",
   "metadata": {},
   "outputs": [
    {
     "data": {
      "text/plain": [
       "0.9565217391304348"
      ]
     },
     "execution_count": 44,
     "metadata": {},
     "output_type": "execute_result"
    }
   ],
   "source": [
    "# Sklearn polynomial logistic regression version \n",
    "poly = PolynomialFeatures(degree=2)\n",
    "x_train_mod = x_train[:,1:cols] #removing the ones column from X\n",
    "X_poly = poly.fit_transform(x_train_mod)\n",
    "\n",
    "poly_log = LogisticRegression(random_state=4, max_iter=10000).fit(X_poly, y_train_array)\n",
    "\n",
    "x_test_mod = x_test[:,1:cols] #removing the ones column from X\n",
    "X_poly_test = poly.fit_transform(x_test_mod)\n",
    "poly_log.score(X_poly_test,y_test)\n",
    "#result is .9565 \n",
    "#it is much faster when scaled (only a few seconds)"
   ]
  },
  {
   "cell_type": "code",
   "execution_count": null,
   "id": "fa928fe2-b828-4b9b-ab80-4ddb4df20b3e",
   "metadata": {},
   "outputs": [],
   "source": [
    "#figure out how to add a regularization term"
   ]
  },
  {
   "cell_type": "code",
   "execution_count": 35,
   "id": "e289d5db-604e-4ed7-ae9d-793f64b50945",
   "metadata": {},
   "outputs": [],
   "source": [
    "# x_train, x_test, y_train, y_test = train_test_split(X, Y, test_size=0.25, random_state=4)\n",
    "# poly = PolynomialFeatures(degree=2)\n",
    "# x_train_mod = x_train.iloc[:,1:cols] #removing the ones column from X\n",
    "# X_poly = poly.fit_transform(x_train_mod)\n",
    "\n",
    "# poly_log = LogisticRegression(random_state=4, max_iter=10000).fit(X_poly, y_train_array)\n",
    "\n",
    "# x_test_mod = x_test.iloc[:,1:cols] #removing the ones column from X\n",
    "# X_poly_test = poly.fit_transform(x_test_mod)\n",
    "# poly_log.score(X_poly_test,y_test)\n",
    "# #took 8 minutes, maxed out iterations and did not converge\n",
    "# #result is .9766"
   ]
  },
  {
   "cell_type": "code",
   "execution_count": null,
   "id": "2d033c42-c945-40e4-a6ed-7ab0e313d5a5",
   "metadata": {},
   "outputs": [],
   "source": []
  }
 ],
 "metadata": {
  "kernelspec": {
   "display_name": "Python 3 (ipykernel)",
   "language": "python",
   "name": "python3"
  },
  "language_info": {
   "codemirror_mode": {
    "name": "ipython",
    "version": 3
   },
   "file_extension": ".py",
   "mimetype": "text/x-python",
   "name": "python",
   "nbconvert_exporter": "python",
   "pygments_lexer": "ipython3",
   "version": "3.12.7"
  }
 },
 "nbformat": 4,
 "nbformat_minor": 5
}
