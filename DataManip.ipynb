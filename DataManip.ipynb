{
 "cells": [
  {
   "metadata": {},
   "cell_type": "code",
   "outputs": [],
   "execution_count": null,
   "source": "",
   "id": "17ef7a9291641381"
  }
 ],
 "metadata": {},
 "nbformat": 4,
 "nbformat_minor": 5
}
